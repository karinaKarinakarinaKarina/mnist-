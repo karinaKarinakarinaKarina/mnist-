{
 "cells": [
  {
   "cell_type": "code",
   "execution_count": 48,
   "id": "f5b726ae",
   "metadata": {},
   "outputs": [],
   "source": [
    "import numpy   #to_process_matrix_values\n",
    "import matplotlib.pyplot #to_show_images\n",
    "from keras.layers import Dense, Flatten #\"fully connected\" layers (Dense)\n",
    "from keras.models import Sequential #последовательная_модель\n",
    "from keras.utils import to_categorical\n",
    "from keras.datasets import mnist\n",
    "from keras import optimizers \n",
    "from keras import losses\n",
    "from keras import metrics\n"
   ]
  },
  {
   "cell_type": "code",
   "execution_count": 29,
   "id": "886cd010",
   "metadata": {},
   "outputs": [],
   "source": [
    "#load mnist data\n",
    "(x_training,y_training),(x_testing,y_testing) = mnist.load_data()"
   ]
  },
  {
   "cell_type": "code",
   "execution_count": 30,
   "id": "750263a0",
   "metadata": {},
   "outputs": [
    {
     "data": {
      "image/png": "[encoded data removed]",
      "text/plain": [
       "<Figure size 1000x400 with 5 Axes>"
      ]
     },
     "metadata": {},
     "output_type": "display_data"
    }
   ],
   "source": [
    "#show first 5 images from dataset\n",
    "fig,axes=matplotlib.pyplot.subplots(ncols=5,sharex=False,sharey=True,figsize=(10,4))\n",
    "for i in range(5):\n",
    "    axes[i].set_title(y_training[i])\n",
    "    axes[i].imshow(x_training[i],cmap='Greys')\n",
    "    axes[i].get_xaxis().set_visible(False) \n",
    "    axes[i].get_yaxis().set_visible(False)\n",
    "matplotlib.pyplot.show()"
   ]
  },
  {
   "cell_type": "code",
   "execution_count": 31,
   "id": "a9d73734",
   "metadata": {},
   "outputs": [],
   "source": [
    "# Преобразование данных в матрицах изображений\n",
    "x_training = x_training/x_training.max()\n",
    "x_testing = x_testing/x_testing.max()\n",
    "# Преобразуем целевые значения методом «one-hot encoding»\n",
    "y_train = to_categorical(y_training, 10)\n",
    "y_test = to_categorical(y_testing, 10)"
   ]
  },
  {
   "cell_type": "code",
   "execution_count": 32,
   "id": "0cc3ff29",
   "metadata": {},
   "outputs": [
    {
     "name": "stdout",
     "output_type": "stream",
     "text": [
      "Model: \"sequential_2\"\n",
      "_________________________________________________________________\n",
      " Layer (type)                Output Shape              Param #   \n",
      "=================================================================\n",
      " dense_14 (Dense)            (None, 28, 32)            928       \n",
      "                                                                 \n",
      " dense_15 (Dense)            (None, 28, 64)            2112      \n",
      "                                                                 \n",
      " dense_16 (Dense)            (None, 28, 128)           8320      \n",
      "                                                                 \n",
      " dense_17 (Dense)            (None, 28, 256)           33024     \n",
      "                                                                 \n",
      " dense_18 (Dense)            (None, 28, 512)           131584    \n",
      "                                                                 \n",
      " flatten_2 (Flatten)         (None, 14336)             0         \n",
      "                                                                 \n",
      " dense_19 (Dense)            (None, 10)                143370    \n",
      "                                                                 \n",
      "=================================================================\n",
      "Total params: 319,338\n",
      "Trainable params: 319,338\n",
      "Non-trainable params: 0\n",
      "_________________________________________________________________\n"
     ]
    }
   ],
   "source": [
    "\n",
    "# Создаем модель\n",
    "model = Sequential([\n",
    "    Dense(32, activation='relu', input_shape=(x_training[0].shape)),\n",
    "    Dense(64, activation='relu'),\n",
    "    Dense(128, activation='relu'),\n",
    "    Dense(256, activation='relu'),\n",
    "    Dense(512, activation='relu'),\n",
    "    Flatten(),\n",
    "    Dense(10, activation='sigmoid')\n",
    "]) \n",
    "# Выведем полученную модель \n",
    "model.summary()"
   ]
  },
  {
   "cell_type": "code",
   "execution_count": 49,
   "id": "d44ac559",
   "metadata": {
    "scrolled": true
   },
   "outputs": [],
   "source": [
    "# Укажем конфигурацию обучения (оптимизатор, функция потерь, метрики)\n",
    "model.compile(optimizer=optimizers.RMSprop(),  # Optimizer\n",
    "              # Минимизируемая функцию потерь\n",
    "              loss=losses.SparseCategoricalCrossentropy(),\n",
    "              # Список метрик для мониторинга\n",
    "              metrics=[metrics.SparseCategoricalAccuracy()])"
   ]
  },
  {
   "cell_type": "code",
   "execution_count": 51,
   "id": "b5f4b2d4",
   "metadata": {},
   "outputs": [
    {
     "name": "stdout",
     "output_type": "stream",
     "text": [
      "Epoch 1/3\n",
      "938/938 [==============================] - 68s 71ms/step - loss: 0.2341 - sparse_categorical_accuracy: 0.9284 - val_loss: 0.1398 - val_sparse_categorical_accuracy: 0.9610\n",
      "Epoch 2/3\n",
      "938/938 [==============================] - 63s 67ms/step - loss: 0.1343 - sparse_categorical_accuracy: 0.9606 - val_loss: 0.1016 - val_sparse_categorical_accuracy: 0.9719\n",
      "Epoch 3/3\n",
      "938/938 [==============================] - 61s 65ms/step - loss: 0.1157 - sparse_categorical_accuracy: 0.9664 - val_loss: 0.0935 - val_sparse_categorical_accuracy: 0.9750\n"
     ]
    }
   ],
   "source": [
    "# Обучим модель разбив данные на \"пакеты\", итерируя весь датасет заданное количество \"эпох\"\n",
    "## 10,000 примеров для валидации\n",
    "x_val = x_training[-10000:]\n",
    "y_val = y_training[-10000:]\n",
    "history = model.fit(x_training, y_training,\n",
    "                    batch_size=64,\n",
    "                    epochs=3,\n",
    "                    validation_data=(x_val, y_val))"
   ]
  },
  {
   "cell_type": "code",
   "execution_count": 52,
   "id": "6e2845cb",
   "metadata": {
    "scrolled": false
   },
   "outputs": [
    {
     "name": "stdout",
     "output_type": "stream",
     "text": [
      "nhistory dict: {'loss': [0.2340920865535736, 0.13429787755012512, 0.11571616679430008], 'sparse_categorical_accuracy': [0.9283666610717773, 0.9605833292007446, 0.9664166569709778], 'val_loss': [0.13980470597743988, 0.1015796959400177, 0.09353815764188766], 'val_sparse_categorical_accuracy': [0.9610000252723694, 0.9718999862670898, 0.9750000238418579]}\n"
     ]
    }
   ],
   "source": [
    "# Возвращаемый объект \"history\" содержит записи значений потерь и метрик во время обучения\n",
    "print('nhistory dict:', history.history)"
   ]
  },
  {
   "cell_type": "code",
   "execution_count": 54,
   "id": "df1b307c",
   "metadata": {},
   "outputs": [
    {
     "name": "stdout",
     "output_type": "stream",
     "text": [
      "Оцениваем на тестовых данных\n",
      "79/79 [==============================] - 4s 48ms/step - loss: 0.1288 - sparse_categorical_accuracy: 0.9645\n",
      "test loss, test acc: [0.12879157066345215, 0.9645000100135803]\n"
     ]
    }
   ],
   "source": [
    "# Оценим модель на тестовых данных, используя \"evaluate\"\n",
    "print('Оцениваем на тестовых данных')\n",
    "results = model.evaluate(x_testing, y_testing, batch_size=128)\n",
    "print('test loss, test acc:', results)"
   ]
  },
  {
   "cell_type": "code",
   "execution_count": 106,
   "id": "9a2d1f1f",
   "metadata": {},
   "outputs": [
    {
     "name": "stdout",
     "output_type": "stream",
     "text": [
      "4/4 [==============================] - 0s 12ms/step\n",
      "[1.02509016e-22 1.31665702e-13 3.96383953e-10 1.18826945e-04\n",
      " 1.96397355e-13 3.76208487e-09 5.40333859e-27 1.72162466e-02\n",
      " 1.34852848e-17 4.30093738e-09]\n"
     ]
    }
   ],
   "source": [
    "# Сгенерируем прогнозы (вероятности - выходные данные последнего слоя)  на новых данных с помощью \"predict\" \n",
    "predictions = model.predict(x_testing[:100])\n",
    "print(predictions[60])\n"
   ]
  },
  {
   "cell_type": "code",
   "execution_count": null,
   "id": "d7c1c9ff",
   "metadata": {},
   "outputs": [],
   "source": []
  }
 ],
 "metadata": {
  "kernelspec": {
   "display_name": "Python 3 (ipykernel)",
   "language": "python",
   "name": "python3"
  },
  "language_info": {
   "codemirror_mode": {
    "name": "ipython",
    "version": 3
   },
   "file_extension": ".py",
   "mimetype": "text/x-python",
   "name": "python",
   "nbconvert_exporter": "python",
   "pygments_lexer": "ipython3",
   "version": "3.10.1"
  },
  "vscode": {
   "interpreter": {
    "hash": "0a7ae9d4e52e1e6f8abd29b23f41e4b0a5f4e40617872d792065df5e798b92a6"
   }
  }
 },
 "nbformat": 4,
 "nbformat_minor": 5
}
